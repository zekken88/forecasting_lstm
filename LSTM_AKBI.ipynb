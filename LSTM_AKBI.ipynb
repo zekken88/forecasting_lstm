{
  "nbformat": 4,
  "nbformat_minor": 0,
  "metadata": {
    "colab": {
      "name": "LSTM AKBI.ipynb",
      "private_outputs": true,
      "provenance": [],
      "collapsed_sections": []
    },
    "kernelspec": {
      "name": "python3",
      "display_name": "Python 3"
    },
    "language_info": {
      "name": "python"
    },
    "accelerator": "GPU"
  },
  "cells": [
    {
      "cell_type": "code",
      "metadata": {
        "id": "AartIjCF0S8k"
      },
      "source": [
        "import math\n",
        "import pandas_datareader as web\n",
        "import numpy as np\n",
        "import pandas as pd\n",
        "from sklearn.preprocessing import MinMaxScaler\n",
        "from keras.models import Sequential\n",
        "from keras.layers import Dense, LSTM\n",
        "import matplotlib.pyplot as plt\n",
        "import datetime\n",
        "from google.colab import files\n",
        "plt.style.use('fivethirtyeight')"
      ],
      "execution_count": null,
      "outputs": []
    },
    {
      "cell_type": "code",
      "metadata": {
        "id": "T_q5LNTZ1Opq"
      },
      "source": [
        "df = pd.read_csv('/content/LSTM AKBI.csv',index_col=False)\n",
        "df.head()"
      ],
      "execution_count": null,
      "outputs": []
    },
    {
      "cell_type": "code",
      "metadata": {
        "id": "rezYoc5S4iz-"
      },
      "source": [
        "colom='Urea Prilled Bulk FOB Black Sea Spot USD/t'"
      ],
      "execution_count": null,
      "outputs": []
    },
    {
      "cell_type": "code",
      "source": [
        "df=df[['Date',colom]]"
      ],
      "metadata": {
        "id": "H8kF1rVTxnyY"
      },
      "execution_count": null,
      "outputs": []
    },
    {
      "cell_type": "code",
      "metadata": {
        "id": "sWIj1tk732tm"
      },
      "source": [
        "df.head()"
      ],
      "execution_count": null,
      "outputs": []
    },
    {
      "cell_type": "code",
      "metadata": {
        "id": "NZDLaMDo-5kV"
      },
      "source": [
        "df['Date']=pd.to_datetime(df['Date'], infer_datetime_format= True)\n",
        "indexdf=df.set_index(['Date'])"
      ],
      "execution_count": null,
      "outputs": []
    },
    {
      "cell_type": "code",
      "metadata": {
        "id": "89-M2-1wvlTd"
      },
      "source": [
        "df.dropna(inplace=True)\n",
        "df.isnull().sum()"
      ],
      "execution_count": null,
      "outputs": []
    },
    {
      "cell_type": "code",
      "metadata": {
        "id": "QT0K_TyF3VE5"
      },
      "source": [
        "plt.figure(figsize=(16,8))\n",
        "plt.title('Average price History')\n",
        "plt.plot(indexdf)\n",
        "plt.xlabel('Date', fontsize=18)\n",
        "plt.ylabel('Avarage Price USD', fontsize=18)\n",
        "plt.show()"
      ],
      "execution_count": null,
      "outputs": []
    },
    {
      "cell_type": "code",
      "metadata": {
        "id": "7TErwWO84zJw"
      },
      "source": [
        "data = df.filter([colom])\n",
        "dataset= data.values\n",
        "training_data_len=math.ceil(len(dataset)*.8)\n",
        "training_data_len"
      ],
      "execution_count": null,
      "outputs": []
    },
    {
      "cell_type": "code",
      "metadata": {
        "id": "PlaBWjcM6Gfl"
      },
      "source": [
        "scaler = MinMaxScaler(feature_range=(0,1))\n",
        "scaled_data = scaler.fit_transform(dataset)"
      ],
      "execution_count": null,
      "outputs": []
    },
    {
      "cell_type": "code",
      "metadata": {
        "id": "tLoTnq726l9W"
      },
      "source": [
        "train_data = scaled_data[0:training_data_len,:]\n",
        "x_train = []\n",
        "y_train = [] \n",
        "\n",
        "for i in range (60,len(train_data)):\n",
        "  x_train.append(train_data[i-60:i, 0])\n",
        "  y_train.append(train_data[i,0])\n",
        "  if i<= 60:\n",
        "    print(x_train)\n",
        "    print(y_train)\n",
        "    print()"
      ],
      "execution_count": null,
      "outputs": []
    },
    {
      "cell_type": "code",
      "metadata": {
        "id": "W6FBl6Kd8Jj4"
      },
      "source": [
        "x_train,y_train=np.array(x_train), np.array(y_train)"
      ],
      "execution_count": null,
      "outputs": []
    },
    {
      "cell_type": "code",
      "metadata": {
        "id": "nMeuwBuz8aK_"
      },
      "source": [
        "x_train = np.reshape(x_train,(x_train.shape[0], x_train.shape[1], 1))\n",
        "x_train.shape"
      ],
      "execution_count": null,
      "outputs": []
    },
    {
      "cell_type": "code",
      "metadata": {
        "id": "io2ljkqp805C"
      },
      "source": [
        "#membangun model lstm\n",
        "model = Sequential()\n",
        "model.add(LSTM(50,return_sequences=True, input_shape=(x_train.shape[1],1)))\n",
        "model.add(LSTM(50,return_sequences=False))\n",
        "model.add(Dense(25))\n",
        "model.add(Dense(1))"
      ],
      "execution_count": null,
      "outputs": []
    },
    {
      "cell_type": "code",
      "metadata": {
        "id": "TkkaE4U_9hj6"
      },
      "source": [
        "model.compile(optimizer='adam', loss='mean_squared_error')"
      ],
      "execution_count": null,
      "outputs": []
    },
    {
      "cell_type": "code",
      "metadata": {
        "id": "Jp3WK40E9r5o"
      },
      "source": [
        "#train the model\n",
        "model.fit(x_train, y_train,batch_size=10,epochs=300)"
      ],
      "execution_count": null,
      "outputs": []
    },
    {
      "cell_type": "code",
      "metadata": {
        "id": "kyzhQDpm-Ily"
      },
      "source": [
        "test_data= scaled_data[training_data_len-60: , :]\n",
        "x_test=[]\n",
        "y_test= dataset[training_data_len: , :]\n",
        "for i in range(60, len(test_data)):\n",
        "  x_test.append(test_data[i-60:i, 0])"
      ],
      "execution_count": null,
      "outputs": []
    },
    {
      "cell_type": "code",
      "metadata": {
        "id": "NpymreSC7zWC"
      },
      "source": [
        "print(len(test_data))"
      ],
      "execution_count": null,
      "outputs": []
    },
    {
      "cell_type": "code",
      "metadata": {
        "id": "4bEUqt6g-6id"
      },
      "source": [
        "x_test = np.array(x_test)"
      ],
      "execution_count": null,
      "outputs": []
    },
    {
      "cell_type": "code",
      "metadata": {
        "id": "8pmvmyPD_D8J"
      },
      "source": [
        "x_test = np.reshape(x_test,(x_test.shape[0],x_test.shape[1],1))\n",
        "x_test.shape"
      ],
      "execution_count": null,
      "outputs": []
    },
    {
      "cell_type": "code",
      "metadata": {
        "id": "3KEsLZSS_aCQ"
      },
      "source": [
        "predictions = model.predict(x_test)\n",
        "predictions = scaler.inverse_transform(predictions)"
      ],
      "execution_count": null,
      "outputs": []
    },
    {
      "cell_type": "code",
      "metadata": {
        "id": "JEPkSeuR_6S7"
      },
      "source": [
        "rmse = np.sqrt(np.mean(predictions-y_test)**2)\n",
        "rmse"
      ],
      "execution_count": null,
      "outputs": []
    },
    {
      "cell_type": "code",
      "metadata": {
        "id": "Vq6bfSQ5AV6w"
      },
      "source": [
        "train = data[:training_data_len]\n",
        "valid = data[training_data_len:]\n",
        "valid['Predictions']=predictions\n",
        "\n",
        "plt.figure(figsize=(16,8))\n",
        "plt.title('Model')\n",
        "plt.xlabel('Date', fontsize=18)\n",
        "plt.ylabel('Price', fontsize=18)\n",
        "plt.plot(train[colom])\n",
        "plt.plot(valid[[colom,'Predictions']])\n",
        "plt.legend(['Train','Val','Predictions'], loc='lower right')\n",
        "plt.show()"
      ],
      "execution_count": null,
      "outputs": []
    },
    {
      "cell_type": "code",
      "metadata": {
        "id": "c2yQZFLJBwPT"
      },
      "source": [
        "valid"
      ],
      "execution_count": null,
      "outputs": []
    },
    {
      "cell_type": "code",
      "metadata": {
        "id": "hO_sYP67HwMZ"
      },
      "source": [
        "len(test_data)"
      ],
      "execution_count": null,
      "outputs": []
    },
    {
      "cell_type": "code",
      "metadata": {
        "id": "nZM2sNJNzwIn"
      },
      "source": [
        "  apple_quote = pd.read_csv('/content/LSTM AKBI.csv')\n",
        "  apple_quote=apple_quote[[colom]]\n",
        "  apple_quote.dropna(inplace=True)"
      ],
      "execution_count": null,
      "outputs": []
    },
    {
      "cell_type": "code",
      "source": [
        "new_df=apple_quote.filter([colom])\n",
        "df.dropna(inplace=True)\n",
        "hasil=model"
      ],
      "metadata": {
        "id": "h4U6uaz1PiBv"
      },
      "execution_count": null,
      "outputs": []
    },
    {
      "cell_type": "code",
      "metadata": {
        "id": "rZxwfX3Jca7Z"
      },
      "source": [
        "new_df=apple_quote.filter([colom])\n",
        "df.dropna(inplace=True)\n",
        "for i in range(60):\n",
        "  last_60_days=new_df[-60:]  \n",
        "  last_60_days_array=np.reshape(last_60_days,(-1,1))\n",
        "  last_60_days_scaled= scaler.transform(last_60_days_array)\n",
        "  X_test=[]\n",
        "  X_test.append(last_60_days_scaled)\n",
        "  X_test = np.array(X_test)\n",
        "  X_test=np.reshape(X_test,(X_test.shape[0],X_test.shape[1],1))\n",
        "  pred_price=model.predict(X_test)\n",
        "  pred_price = scaler.inverse_transform(pred_price)\n",
        "  new_df=np.append(new_df,pred_price)\n",
        "\n"
      ],
      "execution_count": null,
      "outputs": []
    },
    {
      "cell_type": "code",
      "metadata": {
        "id": "vnlZ2WK40Yrc"
      },
      "source": [
        "future_pred=new_df[-60:]\n",
        "future_pred"
      ],
      "execution_count": null,
      "outputs": []
    },
    {
      "cell_type": "code",
      "metadata": {
        "id": "qiv-Irmw0P7V"
      },
      "source": [
        "new_df=apple_quote.filter([colom])\n",
        "last_60_days = new_df[-60:].values\n",
        "last_60_days_scaled= scaler.transform(last_60_days)\n",
        "X_test=[]\n",
        "X_test.append(last_60_days_scaled)\n",
        "for i in range(60, len(X_test)):\n",
        "  X_test.append(X_test[i-60:i, 0])\n",
        "  X_test=np.array(X_test)\n",
        "  X_test = np.reshape(X_test,(X_test.shape[0],X_test.shape[1],1))\n",
        "  Predictions = model.predict(X_test)\n",
        "  X_test = X_test.append(Predictions)\n",
        "  Predictions=scaler.inverse_transform(Predictions)\n"
      ],
      "execution_count": null,
      "outputs": []
    },
    {
      "cell_type": "code",
      "source": [
        "result=pd.concat([indexdf,valid['Predictions']], axis=1)\n",
        "df_date=df[['Date']]\n",
        "last_date=df_date[-1:]\n",
        "future_date=[]\n",
        "i=7\n",
        "\n",
        "for x in range (60):\n",
        "  end_date = last_date + datetime.timedelta(days=i)\n",
        "  future_date.append(end_date)\n",
        "  i+=7\n",
        "\n",
        "future_date=np.array(future_date)\n",
        "future_date=future_date.reshape(-1)\n",
        "future_result={'Date':future_date,'Future Prediction':future_pred}\n",
        "final_df=pd.DataFrame(data=future_result)\n",
        "final_result=pd.concat([df,final_df],axis=0)\n",
        "final_result['Date']=pd.to_datetime(final_result['Date'], infer_datetime_format= True)\n",
        "final_result=final_result[['Date','Future Prediction']]\n",
        "final_result=final_result[-60:]\n",
        "final_result=final_result.set_index('Date')\n",
        "fix_result=pd.concat([result,final_result],axis=0)\n",
        "plt.figure(figsize=(16,8))\n",
        "plt.plot(fix_result)\n",
        "plt.show()"
      ],
      "metadata": {
        "id": "0E7YlZlS6Au4"
      },
      "execution_count": null,
      "outputs": []
    }
  ]
}